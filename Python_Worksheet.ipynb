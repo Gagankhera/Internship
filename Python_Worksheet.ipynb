{
 "cells": [
  {
   "cell_type": "code",
   "execution_count": null,
   "id": "ac09f74b",
   "metadata": {},
   "outputs": [],
   "source": [
    "# Q11.\tWrite a python program to find the factorial of a number. "
   ]
  },
  {
   "cell_type": "code",
   "execution_count": 12,
   "id": "0f8fde00",
   "metadata": {},
   "outputs": [
    {
     "name": "stdout",
     "output_type": "stream",
     "text": [
      "Enter the number: 3\n",
      "The factorial of 3 is 6\n"
     ]
    }
   ],
   "source": [
    "# Sol 11:\n",
    "\n",
    "num = int(input(\"Enter the number: \")) \n",
    "\n",
    "def factorial(n):\n",
    "    if n == 1:\n",
    "        return n\n",
    "    else:\n",
    "        return n*factorial(n-1)\n",
    "\n",
    "if num < 0:\n",
    "    print(\"Sorry, factorial does not exist for negative numbers\")\n",
    "elif num == 0:\n",
    "    print(\"The factorial of 0 is 1\")\n",
    "else:\n",
    "    print(\"The factorial of\", num, \"is\", factorial(num))"
   ]
  },
  {
   "cell_type": "code",
   "execution_count": null,
   "id": "af396b2a",
   "metadata": {},
   "outputs": [],
   "source": []
  },
  {
   "cell_type": "code",
   "execution_count": null,
   "id": "4baee6fb",
   "metadata": {},
   "outputs": [],
   "source": [
    "# Q12.\tWrite a python program to find whether a number is prime or composite. "
   ]
  },
  {
   "cell_type": "code",
   "execution_count": 20,
   "id": "37f2c874",
   "metadata": {},
   "outputs": [
    {
     "name": "stdout",
     "output_type": "stream",
     "text": [
      "Enter any number : 6\n",
      "6 is NOT a prime number\n"
     ]
    }
   ],
   "source": [
    "# Sol:12\n",
    "\n",
    "num = int(input(\"Enter any number : \"))\n",
    "if num > 1:\n",
    "    for i in range(2, num):\n",
    "        if (num % i) == 0:\n",
    "            print(num, \"is NOT a prime number\")\n",
    "            break\n",
    "    else:\n",
    "        print(num, \"is a PRIME number\")\n",
    "elif num == 0 or 1:\n",
    "    print(num, \"is a neither prime NOR composite number\")\n",
    "else:\n",
    "    print(num, \"is NOT a prime number it is a COMPOSITE number\")"
   ]
  },
  {
   "cell_type": "code",
   "execution_count": null,
   "id": "9f5e719a",
   "metadata": {},
   "outputs": [],
   "source": []
  },
  {
   "cell_type": "code",
   "execution_count": null,
   "id": "505ad46f",
   "metadata": {},
   "outputs": [],
   "source": [
    "# Q13.\tWrite a python program to check whether a given string is palindrome or not. "
   ]
  },
  {
   "cell_type": "code",
   "execution_count": 29,
   "id": "523813d0",
   "metadata": {},
   "outputs": [
    {
     "name": "stdout",
     "output_type": "stream",
     "text": [
      "Enter a string:level\n",
      "The string is a palindrome\n"
     ]
    }
   ],
   "source": [
    "# Sol : 13\n",
    "\n",
    "string = input((\"Enter a string:\"))  \n",
    "if(string == string[::-1]):  \n",
    "      print(\"The string is a palindrome\")  \n",
    "else:  \n",
    "      print(\"The string is not a palindrome\")  "
   ]
  },
  {
   "cell_type": "code",
   "execution_count": null,
   "id": "d406b35f",
   "metadata": {},
   "outputs": [],
   "source": []
  },
  {
   "cell_type": "code",
   "execution_count": null,
   "id": "d90515f7",
   "metadata": {},
   "outputs": [],
   "source": [
    "# Q14.\tWrite a Python program to get the third side of right-angled triangle from two given sides. "
   ]
  },
  {
   "cell_type": "code",
   "execution_count": 1,
   "id": "e33535a9",
   "metadata": {},
   "outputs": [
    {
     "name": "stdout",
     "output_type": "stream",
     "text": [
      "The hypotenuse of a right-angled triangle for the other sides given as 3cm and 4cm : 5.0\n",
      "The Perpendicular of a right-angled triangle for the other sides given as 4cm and 5cm : 3.0\n",
      "The Base of a right-angled triangle for the other sides given 3cm and 5cm : 4.0\n"
     ]
    }
   ],
   "source": [
    "# Sol: 14\n",
    "# Hypotenuse**2 = Perpendicular**2 + Base**2 \n",
    "# c**2 = a**2 + b**2  \n",
    "\n",
    "def triangle(Perpendicular,Base,hypotenuse):\n",
    "    if Perpendicular == str('c'):\n",
    "        return ((hypotenuse**2) - (Base**2))**0.5\n",
    "    elif Base == str('c'):\n",
    "        return ((hypotenuse**2) - (Perpendicular**2))**0.5\n",
    "    elif hypotenuse == str('c'):\n",
    "        return ((Perpendicular**2) + (Base**2))**0.5\n",
    "    else:\n",
    "        print(\" ----- \")\n",
    "\n",
    "print(\"The hypotenuse of a right-angled triangle for the other sides given as 3cm and 4cm :\",triangle(3,4,'c'))\n",
    "print(\"The Perpendicular of a right-angled triangle for the other sides given as 4cm and 5cm :\",triangle('c',4,5))\n",
    "print(\"The Base of a right-angled triangle for the other sides given 3cm and 5cm :\",triangle(3,'c',5))"
   ]
  },
  {
   "cell_type": "code",
   "execution_count": null,
   "id": "fe3c2906",
   "metadata": {},
   "outputs": [],
   "source": []
  },
  {
   "cell_type": "code",
   "execution_count": null,
   "id": "373089f3",
   "metadata": {},
   "outputs": [],
   "source": [
    "# Q15.\tWrite a python program to print the frequency of each of the characters present in a given string. "
   ]
  },
  {
   "cell_type": "code",
   "execution_count": 26,
   "id": "b7e0368c",
   "metadata": {},
   "outputs": [
    {
     "name": "stdout",
     "output_type": "stream",
     "text": [
      "Given String:  internship\n",
      "Frequency of each character :\n",
      "  {'i': 1}\n",
      "Frequency of each character :\n",
      "  {'i': 1, 'n': 1}\n",
      "Frequency of each character :\n",
      "  {'i': 1, 'n': 1, 't': 1}\n",
      "Frequency of each character :\n",
      "  {'i': 1, 'n': 1, 't': 1, 'e': 1}\n",
      "Frequency of each character :\n",
      "  {'i': 1, 'n': 1, 't': 1, 'e': 1, 'r': 1}\n",
      "Frequency of each character :\n",
      "  {'i': 1, 'n': 2, 't': 1, 'e': 1, 'r': 1}\n",
      "Frequency of each character :\n",
      "  {'i': 1, 'n': 2, 't': 1, 'e': 1, 'r': 1, 's': 1}\n",
      "Frequency of each character :\n",
      "  {'i': 1, 'n': 2, 't': 1, 'e': 1, 'r': 1, 's': 1, 'h': 1}\n",
      "Frequency of each character :\n",
      "  {'i': 2, 'n': 2, 't': 1, 'e': 1, 'r': 1, 's': 1, 'h': 1}\n",
      "Frequency of each character :\n",
      "  {'i': 2, 'n': 2, 't': 1, 'e': 1, 'r': 1, 's': 1, 'h': 1, 'p': 1}\n"
     ]
    }
   ],
   "source": [
    "# Sol 15:\n",
    "\n",
    "string = \"internship\"\n",
    "print(\"Given String: \",string)\n",
    "res = {}\n",
    "\n",
    "for keys in string:\n",
    "    res[keys] = res.get(keys, 0) + 1\n",
    "    print(\"Frequency of each character :\\n \",res)"
   ]
  },
  {
   "cell_type": "code",
   "execution_count": null,
   "id": "3deff683",
   "metadata": {},
   "outputs": [],
   "source": []
  },
  {
   "cell_type": "code",
   "execution_count": null,
   "id": "5ab7c6ec",
   "metadata": {},
   "outputs": [],
   "source": []
  },
  {
   "cell_type": "code",
   "execution_count": null,
   "id": "e8935b08",
   "metadata": {},
   "outputs": [],
   "source": []
  },
  {
   "cell_type": "code",
   "execution_count": null,
   "id": "877f113d",
   "metadata": {},
   "outputs": [],
   "source": []
  }
 ],
 "metadata": {
  "kernelspec": {
   "display_name": "Python 3",
   "language": "python",
   "name": "python3"
  },
  "language_info": {
   "codemirror_mode": {
    "name": "ipython",
    "version": 3
   },
   "file_extension": ".py",
   "mimetype": "text/x-python",
   "name": "python",
   "nbconvert_exporter": "python",
   "pygments_lexer": "ipython3",
   "version": "3.8.5"
  }
 },
 "nbformat": 4,
 "nbformat_minor": 5
}
